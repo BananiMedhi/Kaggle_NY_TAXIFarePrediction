{
 "cells": [
  {
   "cell_type": "code",
   "execution_count": 2,
   "metadata": {
    "collapsed": true
   },
   "outputs": [],
   "source": [
    "import pandas as pd\n",
    "import  matplotlib.pyplot as plt\n",
    "from datetime import datetime\n",
    "from sklearn import datasets, linear_model\n",
    "import seaborn as sb\n",
    "import time\n",
    "import numpy as np\n",
    "% matplotlib inline\n",
    "from math import radians, cos, sin, asin, sqrt\n",
    "from sklearn import linear_model\n",
    "from sklearn.metrics import mean_squared_error\n",
    "from sklearn.model_selection import train_test_split\n",
    "import math\n",
    "from sklearn.ensemble import RandomForestRegressor"
   ]
  },
  {
   "cell_type": "markdown",
   "metadata": {},
   "source": [
    "### Importing Data Files"
   ]
  },
  {
   "cell_type": "code",
   "execution_count": 3,
   "metadata": {
    "collapsed": true
   },
   "outputs": [],
   "source": [
    "train_file = \"train/train.csv\"\n",
    "data = pd.read_csv(train_file, nrows= 2000000)\n",
    "\n",
    "train_file = \"test.csv\"\n",
    "test_data = pd.read_csv(train_file)"
   ]
  },
  {
   "cell_type": "code",
   "execution_count": 10,
   "metadata": {},
   "outputs": [
    {
     "name": "stdout",
     "output_type": "stream",
     "text": [
      "<class 'pandas.core.frame.DataFrame'>\n",
      "RangeIndex: 9914 entries, 0 to 9913\n",
      "Data columns (total 7 columns):\n",
      "key                  9914 non-null object\n",
      "pickup_datetime      9914 non-null object\n",
      "pickup_longitude     9914 non-null float64\n",
      "pickup_latitude      9914 non-null float64\n",
      "dropoff_longitude    9914 non-null float64\n",
      "dropoff_latitude     9914 non-null float64\n",
      "passenger_count      9914 non-null int64\n",
      "dtypes: float64(4), int64(1), object(2)\n",
      "memory usage: 542.2+ KB\n"
     ]
    }
   ],
   "source": [
    "testdf = test_data\n",
    "testdf.info()"
   ]
  },
  {
   "cell_type": "code",
   "execution_count": 6,
   "metadata": {},
   "outputs": [
    {
     "data": {
      "text/html": [
       "<div>\n",
       "<style scoped>\n",
       "    .dataframe tbody tr th:only-of-type {\n",
       "        vertical-align: middle;\n",
       "    }\n",
       "\n",
       "    .dataframe tbody tr th {\n",
       "        vertical-align: top;\n",
       "    }\n",
       "\n",
       "    .dataframe thead th {\n",
       "        text-align: right;\n",
       "    }\n",
       "</style>\n",
       "<table border=\"1\" class=\"dataframe\">\n",
       "  <thead>\n",
       "    <tr style=\"text-align: right;\">\n",
       "      <th></th>\n",
       "      <th>key</th>\n",
       "      <th>fare_amount</th>\n",
       "      <th>pickup_datetime</th>\n",
       "      <th>pickup_longitude</th>\n",
       "      <th>pickup_latitude</th>\n",
       "      <th>dropoff_longitude</th>\n",
       "      <th>dropoff_latitude</th>\n",
       "      <th>passenger_count</th>\n",
       "    </tr>\n",
       "  </thead>\n",
       "  <tbody>\n",
       "    <tr>\n",
       "      <th>0</th>\n",
       "      <td>2009-06-15 17:26:21.0000001</td>\n",
       "      <td>4.5</td>\n",
       "      <td>2009-06-15 17:26:21 UTC</td>\n",
       "      <td>-73.844311</td>\n",
       "      <td>40.721319</td>\n",
       "      <td>-73.841610</td>\n",
       "      <td>40.712278</td>\n",
       "      <td>1</td>\n",
       "    </tr>\n",
       "    <tr>\n",
       "      <th>1</th>\n",
       "      <td>2010-01-05 16:52:16.0000002</td>\n",
       "      <td>16.9</td>\n",
       "      <td>2010-01-05 16:52:16 UTC</td>\n",
       "      <td>-74.016048</td>\n",
       "      <td>40.711303</td>\n",
       "      <td>-73.979268</td>\n",
       "      <td>40.782004</td>\n",
       "      <td>1</td>\n",
       "    </tr>\n",
       "    <tr>\n",
       "      <th>2</th>\n",
       "      <td>2011-08-18 00:35:00.00000049</td>\n",
       "      <td>5.7</td>\n",
       "      <td>2011-08-18 00:35:00 UTC</td>\n",
       "      <td>-73.982738</td>\n",
       "      <td>40.761270</td>\n",
       "      <td>-73.991242</td>\n",
       "      <td>40.750562</td>\n",
       "      <td>2</td>\n",
       "    </tr>\n",
       "    <tr>\n",
       "      <th>3</th>\n",
       "      <td>2012-04-21 04:30:42.0000001</td>\n",
       "      <td>7.7</td>\n",
       "      <td>2012-04-21 04:30:42 UTC</td>\n",
       "      <td>-73.987130</td>\n",
       "      <td>40.733143</td>\n",
       "      <td>-73.991567</td>\n",
       "      <td>40.758092</td>\n",
       "      <td>1</td>\n",
       "    </tr>\n",
       "    <tr>\n",
       "      <th>4</th>\n",
       "      <td>2010-03-09 07:51:00.000000135</td>\n",
       "      <td>5.3</td>\n",
       "      <td>2010-03-09 07:51:00 UTC</td>\n",
       "      <td>-73.968095</td>\n",
       "      <td>40.768008</td>\n",
       "      <td>-73.956655</td>\n",
       "      <td>40.783762</td>\n",
       "      <td>1</td>\n",
       "    </tr>\n",
       "  </tbody>\n",
       "</table>\n",
       "</div>"
      ],
      "text/plain": [
       "                             key  fare_amount          pickup_datetime  \\\n",
       "0    2009-06-15 17:26:21.0000001          4.5  2009-06-15 17:26:21 UTC   \n",
       "1    2010-01-05 16:52:16.0000002         16.9  2010-01-05 16:52:16 UTC   \n",
       "2   2011-08-18 00:35:00.00000049          5.7  2011-08-18 00:35:00 UTC   \n",
       "3    2012-04-21 04:30:42.0000001          7.7  2012-04-21 04:30:42 UTC   \n",
       "4  2010-03-09 07:51:00.000000135          5.3  2010-03-09 07:51:00 UTC   \n",
       "\n",
       "   pickup_longitude  pickup_latitude  dropoff_longitude  dropoff_latitude  \\\n",
       "0        -73.844311        40.721319         -73.841610         40.712278   \n",
       "1        -74.016048        40.711303         -73.979268         40.782004   \n",
       "2        -73.982738        40.761270         -73.991242         40.750562   \n",
       "3        -73.987130        40.733143         -73.991567         40.758092   \n",
       "4        -73.968095        40.768008         -73.956655         40.783762   \n",
       "\n",
       "   passenger_count  \n",
       "0                1  \n",
       "1                1  \n",
       "2                2  \n",
       "3                1  \n",
       "4                1  "
      ]
     },
     "execution_count": 6,
     "metadata": {},
     "output_type": "execute_result"
    }
   ],
   "source": [
    "data.head()"
   ]
  },
  {
   "cell_type": "markdown",
   "metadata": {},
   "source": [
    "## 1. Data Cleaning"
   ]
  },
  {
   "cell_type": "code",
   "execution_count": 16,
   "metadata": {
    "collapsed": true
   },
   "outputs": [],
   "source": [
    "def clean(data):\n",
    "    #check for null values in the rows\n",
    "    print(\" Check Null Rows \")\n",
    "    print(data.isnull().sum())\n",
    "\n",
    "    #Removing NA values\n",
    "    print(\"Prev Size: %d\" % len(data))\n",
    "    data = data.dropna(how = 'any', axis = 'rows')\n",
    "    print(\"New Size: %d\" % len(data))\n",
    "\n",
    "    #fare amount should be positive\n",
    "    print(\"Prev Size: %d\" % len(data))\n",
    "    data = data[(data.fare_amount > 0) & (data.fare_amount < 100)]\n",
    "    print(\"New Size: %d\" % len(data))\n",
    "    \n",
    "    # bounding the lat lon data using the values in the test data for more accuracy. \n",
    "    \n",
    "    data = data[(test_data.pickup_longitude.min() <= data['pickup_longitude']) & (data['pickup_longitude'] <= test_data.pickup_longitude.max())]\n",
    "    data = data[(test_data.dropoff_longitude.min() <= data['dropoff_longitude']) & (data['dropoff_longitude'] <= test_data.dropoff_longitude.max())]\n",
    "    data = data[(test_data.pickup_latitude.min() <= data['pickup_latitude']) & (data['pickup_latitude'] <= test_data.pickup_latitude.max())]\n",
    "    data = data[(test_data.dropoff_latitude.min() <= data['dropoff_latitude']) & (data['dropoff_latitude'] <= test_data.dropoff_latitude.max())]\n",
    "    \n",
    "    # Remove passenger count outliers\n",
    "    data = data[(data['passenger_count'] > 0) & (data['passenger_count'] < 6)]\n",
    "    return data  \n"
   ]
  },
  {
   "cell_type": "code",
   "execution_count": 22,
   "metadata": {
    "collapsed": true
   },
   "outputs": [],
   "source": [
    "# All methods used\n",
    "\n",
    "def plot_fare_histogram(df):\n",
    "    data[data.fare_amount <= 80].fare_amount.hist(bins=50, figsize=(14,3))\n",
    "    plt.xlabel('fare $USD')\n",
    "    plt.title('Histogram')\n",
    "\n",
    "def convert_date(df):\n",
    "    df['pickup_datetime'] = df['pickup_datetime'].map(lambda x: str(x)[:-4])\n",
    "    df['pickup_datetime'] =  pd.to_datetime((df['pickup_datetime']), format='%Y-%m-%d %H:%M:%S.%f')\n",
    "    \n",
    "def euclidean_dist(df):\n",
    "    df['distance'] = (df.pickup_longitude.sub(df.dropoff_longitude).pow(2).add(df.pickup_latitude.sub(df.dropoff_latitude).pow(2))).pow(.5)\n",
    "     \n",
    "def day_in_secs(data):\n",
    "    #data['time_of_day'] = data.pickup_datetime.dt.hour\n",
    "    data['time_of_day'] = data.pickup_datetime.dt.hour*60 +  data.pickup_datetime.dt.minute \n",
    "       \n",
    "def haversine(lon1, lat1, lon2, lat2): # extracted from internet for calculating the actual distance traveled.\n",
    "    lon1, lat1, lon2, lat2 = map(radians, [lon1, lat1, lon2, lat2])\n",
    "    dlon = lon2 - lon1 \n",
    "    dlat = lat2 - lat1 \n",
    "    a = sin(dlat/2)**2 + cos(lat1) * cos(lat2) * sin(dlon/2)**2\n",
    "    c = 2 * asin(sqrt(a)) \n",
    "    r = 6371 #radius of earth in kms\n",
    "    return  c * r  \n",
    "    \n",
    "def fare_per_mile(fare,dist):\n",
    "    if dist < 1:\n",
    "        return 0\n",
    "    val = fare/dist\n",
    "    if math.isnan(val):\n",
    "        return 0\n",
    "    return val\n",
    "\n",
    "def extra_features(data,isTest):\n",
    "    data['hav_distance'] = data.apply(lambda row: haversine(row.pickup_longitude,row.pickup_latitude,row.dropoff_longitude,row.dropoff_latitude),axis=1)\n",
    "    data['hour'] = data.pickup_datetime.dt.hour\n",
    "    data['year'] = data.pickup_datetime.dt.year\n",
    "    data['min'] = data.pickup_datetime.dt.minute\n",
    "    data['week_day'] = data.pickup_datetime.dt.dayofweek\n",
    "    if not isTest:\n",
    "        data['fare_per_mile'] = data.apply(lambda row: fare_per_mile(row.fare_amount,row.hav_distance))"
   ]
  },
  {
   "cell_type": "code",
   "execution_count": 35,
   "metadata": {
    "collapsed": true
   },
   "outputs": [],
   "source": []
  },
  {
   "cell_type": "code",
   "execution_count": null,
   "metadata": {
    "collapsed": true
   },
   "outputs": [],
   "source": [
    "# long_lat_diff(data)\n",
    "data = clean(data)   \n",
    "euclidean_dist(data)\n",
    "convert_date(data)\n",
    "day_in_secs(data)\n",
    "extra_features(data)"
   ]
  },
  {
   "cell_type": "code",
   "execution_count": 10,
   "metadata": {},
   "outputs": [
    {
     "data": {
      "text/html": [
       "<div>\n",
       "<style scoped>\n",
       "    .dataframe tbody tr th:only-of-type {\n",
       "        vertical-align: middle;\n",
       "    }\n",
       "\n",
       "    .dataframe tbody tr th {\n",
       "        vertical-align: top;\n",
       "    }\n",
       "\n",
       "    .dataframe thead th {\n",
       "        text-align: right;\n",
       "    }\n",
       "</style>\n",
       "<table border=\"1\" class=\"dataframe\">\n",
       "  <thead>\n",
       "    <tr style=\"text-align: right;\">\n",
       "      <th></th>\n",
       "      <th>fare_amount</th>\n",
       "      <th>pickup_longitude</th>\n",
       "      <th>pickup_latitude</th>\n",
       "      <th>dropoff_longitude</th>\n",
       "      <th>dropoff_latitude</th>\n",
       "      <th>passenger_count</th>\n",
       "      <th>distance</th>\n",
       "      <th>time_of_day</th>\n",
       "      <th>hav_distance</th>\n",
       "      <th>hour</th>\n",
       "      <th>min</th>\n",
       "      <th>week_day</th>\n",
       "      <th>fare_per_mile</th>\n",
       "    </tr>\n",
       "  </thead>\n",
       "  <tbody>\n",
       "    <tr>\n",
       "      <th>count</th>\n",
       "      <td>1.908985e+06</td>\n",
       "      <td>1.908985e+06</td>\n",
       "      <td>1.908985e+06</td>\n",
       "      <td>1.908985e+06</td>\n",
       "      <td>1.908985e+06</td>\n",
       "      <td>1.908985e+06</td>\n",
       "      <td>1.908985e+06</td>\n",
       "      <td>1.908985e+06</td>\n",
       "      <td>1.908985e+06</td>\n",
       "      <td>1.908985e+06</td>\n",
       "      <td>1.908985e+06</td>\n",
       "      <td>1.908985e+06</td>\n",
       "      <td>1.908985e+06</td>\n",
       "    </tr>\n",
       "    <tr>\n",
       "      <th>mean</th>\n",
       "      <td>1.127250e+01</td>\n",
       "      <td>-7.397517e+01</td>\n",
       "      <td>4.075106e+01</td>\n",
       "      <td>-7.397426e+01</td>\n",
       "      <td>4.075138e+01</td>\n",
       "      <td>1.597585e+00</td>\n",
       "      <td>3.403734e-02</td>\n",
       "      <td>8.400879e+02</td>\n",
       "      <td>3.322480e+00</td>\n",
       "      <td>1.350894e+01</td>\n",
       "      <td>2.955153e+01</td>\n",
       "      <td>3.041008e+00</td>\n",
       "      <td>inf</td>\n",
       "    </tr>\n",
       "    <tr>\n",
       "      <th>std</th>\n",
       "      <td>9.351220e+00</td>\n",
       "      <td>3.831083e-02</td>\n",
       "      <td>2.954447e-02</td>\n",
       "      <td>3.723455e-02</td>\n",
       "      <td>3.262337e-02</td>\n",
       "      <td>1.154078e+00</td>\n",
       "      <td>4.016153e-02</td>\n",
       "      <td>3.914059e+02</td>\n",
       "      <td>3.749715e+00</td>\n",
       "      <td>6.517116e+00</td>\n",
       "      <td>1.732432e+01</td>\n",
       "      <td>1.950046e+00</td>\n",
       "      <td>NaN</td>\n",
       "    </tr>\n",
       "    <tr>\n",
       "      <th>min</th>\n",
       "      <td>1.000000e-02</td>\n",
       "      <td>-7.426975e+01</td>\n",
       "      <td>4.049134e+01</td>\n",
       "      <td>-7.426948e+01</td>\n",
       "      <td>4.049023e+01</td>\n",
       "      <td>1.000000e+00</td>\n",
       "      <td>0.000000e+00</td>\n",
       "      <td>0.000000e+00</td>\n",
       "      <td>0.000000e+00</td>\n",
       "      <td>0.000000e+00</td>\n",
       "      <td>0.000000e+00</td>\n",
       "      <td>0.000000e+00</td>\n",
       "      <td>1.433675e-03</td>\n",
       "    </tr>\n",
       "    <tr>\n",
       "      <th>25%</th>\n",
       "      <td>6.000000e+00</td>\n",
       "      <td>-7.399229e+01</td>\n",
       "      <td>4.073654e+01</td>\n",
       "      <td>-7.399159e+01</td>\n",
       "      <td>4.073553e+01</td>\n",
       "      <td>1.000000e+00</td>\n",
       "      <td>1.280857e-02</td>\n",
       "      <td>5.650000e+02</td>\n",
       "      <td>1.253880e+00</td>\n",
       "      <td>9.000000e+00</td>\n",
       "      <td>1.400000e+01</td>\n",
       "      <td>1.000000e+00</td>\n",
       "      <td>2.974380e+00</td>\n",
       "    </tr>\n",
       "    <tr>\n",
       "      <th>50%</th>\n",
       "      <td>8.500000e+00</td>\n",
       "      <td>-7.398210e+01</td>\n",
       "      <td>4.075333e+01</td>\n",
       "      <td>-7.398062e+01</td>\n",
       "      <td>4.075383e+01</td>\n",
       "      <td>1.000000e+00</td>\n",
       "      <td>2.179283e-02</td>\n",
       "      <td>8.790000e+02</td>\n",
       "      <td>2.151987e+00</td>\n",
       "      <td>1.400000e+01</td>\n",
       "      <td>3.000000e+01</td>\n",
       "      <td>3.000000e+00</td>\n",
       "      <td>3.837284e+00</td>\n",
       "    </tr>\n",
       "    <tr>\n",
       "      <th>75%</th>\n",
       "      <td>1.250000e+01</td>\n",
       "      <td>-7.396836e+01</td>\n",
       "      <td>4.076751e+01</td>\n",
       "      <td>-7.396538e+01</td>\n",
       "      <td>4.076838e+01</td>\n",
       "      <td>2.000000e+00</td>\n",
       "      <td>3.869515e-02</td>\n",
       "      <td>1.172000e+03</td>\n",
       "      <td>3.912652e+00</td>\n",
       "      <td>1.900000e+01</td>\n",
       "      <td>4.500000e+01</td>\n",
       "      <td>5.000000e+00</td>\n",
       "      <td>5.104956e+00</td>\n",
       "    </tr>\n",
       "    <tr>\n",
       "      <th>max</th>\n",
       "      <td>9.999000e+01</td>\n",
       "      <td>-7.296375e+01</td>\n",
       "      <td>4.169685e+01</td>\n",
       "      <td>-7.306468e+01</td>\n",
       "      <td>4.169126e+01</td>\n",
       "      <td>5.000000e+00</td>\n",
       "      <td>1.237685e+00</td>\n",
       "      <td>1.439000e+03</td>\n",
       "      <td>1.147885e+02</td>\n",
       "      <td>2.300000e+01</td>\n",
       "      <td>5.900000e+01</td>\n",
       "      <td>6.000000e+00</td>\n",
       "      <td>inf</td>\n",
       "    </tr>\n",
       "  </tbody>\n",
       "</table>\n",
       "</div>"
      ],
      "text/plain": [
       "        fare_amount  pickup_longitude  pickup_latitude  dropoff_longitude  \\\n",
       "count  1.908985e+06      1.908985e+06     1.908985e+06       1.908985e+06   \n",
       "mean   1.127250e+01     -7.397517e+01     4.075106e+01      -7.397426e+01   \n",
       "std    9.351220e+00      3.831083e-02     2.954447e-02       3.723455e-02   \n",
       "min    1.000000e-02     -7.426975e+01     4.049134e+01      -7.426948e+01   \n",
       "25%    6.000000e+00     -7.399229e+01     4.073654e+01      -7.399159e+01   \n",
       "50%    8.500000e+00     -7.398210e+01     4.075333e+01      -7.398062e+01   \n",
       "75%    1.250000e+01     -7.396836e+01     4.076751e+01      -7.396538e+01   \n",
       "max    9.999000e+01     -7.296375e+01     4.169685e+01      -7.306468e+01   \n",
       "\n",
       "       dropoff_latitude  passenger_count      distance   time_of_day  \\\n",
       "count      1.908985e+06     1.908985e+06  1.908985e+06  1.908985e+06   \n",
       "mean       4.075138e+01     1.597585e+00  3.403734e-02  8.400879e+02   \n",
       "std        3.262337e-02     1.154078e+00  4.016153e-02  3.914059e+02   \n",
       "min        4.049023e+01     1.000000e+00  0.000000e+00  0.000000e+00   \n",
       "25%        4.073553e+01     1.000000e+00  1.280857e-02  5.650000e+02   \n",
       "50%        4.075383e+01     1.000000e+00  2.179283e-02  8.790000e+02   \n",
       "75%        4.076838e+01     2.000000e+00  3.869515e-02  1.172000e+03   \n",
       "max        4.169126e+01     5.000000e+00  1.237685e+00  1.439000e+03   \n",
       "\n",
       "       hav_distance          hour           min      week_day  fare_per_mile  \n",
       "count  1.908985e+06  1.908985e+06  1.908985e+06  1.908985e+06   1.908985e+06  \n",
       "mean   3.322480e+00  1.350894e+01  2.955153e+01  3.041008e+00            inf  \n",
       "std    3.749715e+00  6.517116e+00  1.732432e+01  1.950046e+00            NaN  \n",
       "min    0.000000e+00  0.000000e+00  0.000000e+00  0.000000e+00   1.433675e-03  \n",
       "25%    1.253880e+00  9.000000e+00  1.400000e+01  1.000000e+00   2.974380e+00  \n",
       "50%    2.151987e+00  1.400000e+01  3.000000e+01  3.000000e+00   3.837284e+00  \n",
       "75%    3.912652e+00  1.900000e+01  4.500000e+01  5.000000e+00   5.104956e+00  \n",
       "max    1.147885e+02  2.300000e+01  5.900000e+01  6.000000e+00            inf  "
      ]
     },
     "execution_count": 10,
     "metadata": {},
     "output_type": "execute_result"
    }
   ],
   "source": [
    "data.describe()"
   ]
  },
  {
   "cell_type": "code",
   "execution_count": 11,
   "metadata": {
    "collapsed": true
   },
   "outputs": [],
   "source": [
    "data.to_pickle(\"processed_data.pickle\")"
   ]
  },
  {
   "cell_type": "markdown",
   "metadata": {},
   "source": [
    "## 2. Pearson correlation "
   ]
  },
  {
   "cell_type": "code",
   "execution_count": 24,
   "metadata": {
    "collapsed": true
   },
   "outputs": [],
   "source": [
    "def display_plots(data):  \n",
    "    #Euclidean distance of the ride and the taxi fare\n",
    "    print(\"Pearson: : %f\" % data['fare_amount'].corr(data['distance']))\n",
    "    plt.title ('Distance vs Fare')\n",
    "    plt.xlabel('Fare in USD')\n",
    "    plt.ylabel('Distance')\n",
    "    plt.scatter(data['fare_amount'],data['distance'])\n",
    "    sb.regplot(x = data['fare_amount'], y = data['distance'], scatter=False, color ='red')\n",
    "    plt.savefig('Distance-Fare.png')\n",
    "    plt.show()\n",
    "    \n",
    "    #time of day and distance traveled\n",
    "    print(\"Pearson: : %f\" % data['time_of_day'].corr(data['distance']))\n",
    "    plt.title ('Time vs Distance')\n",
    "    plt.xlabel('Time in mins')\n",
    "    plt.ylabel('Distance')\n",
    "    plt.scatter(data['time_of_day'],data['distance'])\n",
    "    plt.figure(figsize=(3,4))\n",
    "    #sb.regplot(x = data['time_of_day'], y = data['distance'], scatter=False, color ='red')\n",
    "    plt.savefig('Time-Distance.png')\n",
    "    plt.show()\n",
    "    \n",
    "    #time of day and the taxi fare\n",
    "    print(\"Pearson: : %f\" % data['time_of_day'].corr(data['fare_amount']))\n",
    "    plt.title ('Time vs Fare')\n",
    "    plt.xlabel('Time in mins')\n",
    "    plt.ylabel('Fare in USD')\n",
    "    plt.scatter(data['time_of_day'],data['fare_amount'])\n",
    "    #sb.regplot(x = data['time_of_day'], y = data['fare_amount'], scatter=False, color ='red')\n",
    "    plt.savefig('Time-Fare.png')\n",
    "    plt.show()\n",
    "    "
   ]
  },
  {
   "cell_type": "markdown",
   "metadata": {},
   "source": [
    "## 3. Visualization Plots"
   ]
  },
  {
   "cell_type": "code",
   "execution_count": 25,
   "metadata": {},
   "outputs": [
    {
     "name": "stdout",
     "output_type": "stream",
     "text": [
      "Pearson: : 0.839120\n"
     ]
    },
    {
     "data": {
      "image/png": "[encoded data removed]",
      "text/plain": [
       "<matplotlib.figure.Figure at 0x7fe33f32f240>"
      ]
     },
     "metadata": {},
     "output_type": "display_data"
    },
    {
     "name": "stdout",
     "output_type": "stream",
     "text": [
      "Pearson: : -0.030335\n"
     ]
    },
    {
     "data": {
      "image/png": "[encoded data removed]",
      "text/plain": [
       "<matplotlib.figure.Figure at 0x7fe35160bac8>"
      ]
     },
     "metadata": {},
     "output_type": "display_data"
    },
    {
     "data": {
      "text/plain": [
       "<matplotlib.figure.Figure at 0x7fe3485a9710>"
      ]
     },
     "metadata": {},
     "output_type": "display_data"
    },
    {
     "name": "stdout",
     "output_type": "stream",
     "text": [
      "Pearson: : -0.018892\n"
     ]
    },
    {
     "data": {
      "image/png": "[encoded data removed]",
      "text/plain": [
       "<matplotlib.figure.Figure at 0x7fe353b32978>"
      ]
     },
     "metadata": {},
     "output_type": "display_data"
    }
   ],
   "source": [
    "display_plots(data)"
   ]
  },
  {
   "cell_type": "markdown",
   "metadata": {},
   "source": [
    "## 4. Exciting plot"
   ]
  },
  {
   "cell_type": "code",
   "execution_count": 14,
   "metadata": {},
   "outputs": [
    {
     "name": "stdout",
     "output_type": "stream",
     "text": [
      "Pearson: : 0.009405\n"
     ]
    },
    {
     "data": {
      "image/png": "[encoded data removed]",
      "text/plain": [
       "<matplotlib.figure.Figure at 0x7f51317a8d68>"
      ]
     },
     "metadata": {},
     "output_type": "display_data"
    }
   ],
   "source": [
    "print(\"Pearson: : %f\" % data['passenger_count'].corr(data['fare_amount']))\n",
    "plt.title ('Pass vs Fare')\n",
    "plt.xlabel('Pass')\n",
    "plt.ylabel('Fare in USD')\n",
    "plt.scatter(data['passenger_count'],data['fare_amount'])\n",
    "sb.regplot(x = data['passenger_count'], y = data['fare_amount'], scatter=False, color ='red')\n",
    "plt.savefig('Pass-Fare.png')\n",
    "plt.show()"
   ]
  },
  {
   "cell_type": "code",
   "execution_count": 15,
   "metadata": {},
   "outputs": [
    {
     "name": "stdout",
     "output_type": "stream",
     "text": [
      "Pearson: : 0.011110\n"
     ]
    },
    {
     "data": {
      "image/png": "[encoded data removed]",
      "text/plain": [
       "<matplotlib.figure.Figure at 0x7f513177e390>"
      ]
     },
     "metadata": {},
     "output_type": "display_data"
    }
   ],
   "source": [
    "newdata =  data[(data.hav_distance > 1) & (data.hav_distance < 2)]\n",
    "print(\"Pearson: : %f\" % newdata['time_of_day'].corr(newdata['fare_amount']))\n",
    "plt.title ('Evening vs Fare')\n",
    "plt.xlabel('Evening')\n",
    "plt.ylabel('Fare in USD')\n",
    "plt.scatter(newdata['time_of_day'],newdata['fare_amount'])\n",
    "plt.savefig('Evening-Fare.png')\n",
    "plt.show()"
   ]
  },
  {
   "cell_type": "markdown",
   "metadata": {},
   "source": [
    "## 5. Additional features"
   ]
  },
  {
   "cell_type": "markdown",
   "metadata": {},
   "source": [
    "### 5.1 Haversine Distance"
   ]
  },
  {
   "cell_type": "code",
   "execution_count": 16,
   "metadata": {
    "collapsed": true
   },
   "outputs": [],
   "source": [
    "# data['hav_distance'] = data.apply(lambda row: haversine(row), axis=1)"
   ]
  },
  {
   "cell_type": "code",
   "execution_count": 17,
   "metadata": {},
   "outputs": [
    {
     "name": "stdout",
     "output_type": "stream",
     "text": [
      "Pearson: : 0.830551\n"
     ]
    },
    {
     "data": {
      "image/png": "[encoded data removed]",
      "text/plain": [
       "<matplotlib.figure.Figure at 0x7f50f6bb15c0>"
      ]
     },
     "metadata": {},
     "output_type": "display_data"
    }
   ],
   "source": [
    "print(\"Pearson: : %f\" % data['hav_distance'].corr(data['fare_amount']))\n",
    "plt.title ('Hav vs Fare')\n",
    "plt.xlabel('Hav')\n",
    "plt.ylabel('Fare')\n",
    "plt.scatter(data['hav_distance'],data['fare_amount'])\n",
    "sb.regplot(x = data['hav_distance'], y = data['fare_amount'], scatter=False, color ='red')\n",
    "plt.savefig('Haversine-Fare.png')\n",
    "plt.show()"
   ]
  },
  {
   "cell_type": "markdown",
   "metadata": {},
   "source": [
    "### 5.2  Week of the day"
   ]
  },
  {
   "cell_type": "code",
   "execution_count": 18,
   "metadata": {},
   "outputs": [
    {
     "data": {
      "text/plain": [
       "Text(0.5,1,'Histogram')"
      ]
     },
     "execution_count": 18,
     "metadata": {},
     "output_type": "execute_result"
    },
    {
     "data": {
      "image/png": "[encoded data removed]",
      "text/plain": [
       "<matplotlib.figure.Figure at 0x7f51317a88d0>"
      ]
     },
     "metadata": {},
     "output_type": "display_data"
    }
   ],
   "source": [
    "data.week_day.hist(bins=50, figsize=(14,3))\n",
    "plt.xlabel('Day of Week')\n",
    "plt.title('Histogram')"
   ]
  },
  {
   "cell_type": "markdown",
   "metadata": {},
   "source": [
    "## 6. Linear Regression"
   ]
  },
  {
   "cell_type": "code",
   "execution_count": 19,
   "metadata": {},
   "outputs": [
    {
     "name": "stdout",
     "output_type": "stream",
     "text": [
      "<class 'pandas.core.frame.DataFrame'>\n",
      "Int64Index: 1908985 entries, 0 to 1999999\n",
      "Data columns (total 15 columns):\n",
      "key                  object\n",
      "fare_amount          float64\n",
      "pickup_datetime      datetime64[ns]\n",
      "pickup_longitude     float64\n",
      "pickup_latitude      float64\n",
      "dropoff_longitude    float64\n",
      "dropoff_latitude     float64\n",
      "passenger_count      int64\n",
      "distance             float64\n",
      "time_of_day          int64\n",
      "hav_distance         float64\n",
      "hour                 int64\n",
      "min                  int64\n",
      "week_day             int64\n",
      "fare_per_mile        float64\n",
      "dtypes: datetime64[ns](1), float64(8), int64(5), object(1)\n",
      "memory usage: 233.0+ MB\n"
     ]
    }
   ],
   "source": [
    "data.info()"
   ]
  },
  {
   "cell_type": "code",
   "execution_count": 3,
   "metadata": {},
   "outputs": [],
   "source": [
    "data = pd.read_pickle(\"processed_data.pickle\")"
   ]
  },
  {
   "cell_type": "code",
   "execution_count": 21,
   "metadata": {
    "collapsed": true
   },
   "outputs": [],
   "source": [
    "grouped_df = data[data['hav_distance']>3].groupby('hour').mean()"
   ]
  },
  {
   "cell_type": "code",
   "execution_count": 22,
   "metadata": {
    "collapsed": true
   },
   "outputs": [],
   "source": [
    "x = []\n",
    "y = []\n",
    "for hour in grouped_df.index:\n",
    "    x.append(hour)\n",
    "    y.append(grouped_df.loc[hour]['fare_per_mile'])"
   ]
  },
  {
   "cell_type": "code",
   "execution_count": 29,
   "metadata": {},
   "outputs": [
    {
     "data": {
      "image/png": "[encoded data removed]",
      "text/plain": [
       "<matplotlib.figure.Figure at 0x7f50ffdbf6a0>"
      ]
     },
     "metadata": {},
     "output_type": "display_data"
    }
   ],
   "source": [
    "## Plotting the interesting plot.\n",
    "plt.plot(x,y)\n",
    "plt.xlabel(\"time of day (hours)\")\n",
    "plt.ylabel(\"fare per mile\")\n",
    "plt.title(\"Fare per mile vs Time of day\")\n",
    "plt.show()"
   ]
  },
  {
   "cell_type": "code",
   "execution_count": 26,
   "metadata": {},
   "outputs": [
    {
     "data": {
      "text/plain": [
       "pickup_longitude     float64\n",
       "pickup_latitude      float64\n",
       "dropoff_longitude    float64\n",
       "dropoff_latitude     float64\n",
       "passenger_count        int64\n",
       "distance             float64\n",
       "time_of_day            int64\n",
       "hav_distance         float64\n",
       "hour                   int64\n",
       "min                    int64\n",
       "week_day               int64\n",
       "fare_per_mile        float64\n",
       "dtype: object"
      ]
     },
     "execution_count": 26,
     "metadata": {},
     "output_type": "execute_result"
    }
   ],
   "source": [
    "train_df.dtypes"
   ]
  },
  {
   "cell_type": "markdown",
   "metadata": {},
   "source": [
    "## External Dataset"
   ]
  },
  {
   "cell_type": "code",
   "execution_count": 19,
   "metadata": {},
   "outputs": [],
   "source": [
    "# extracted the data from https://www.statista.com/statistics/204740/retail-price-of-gasoline-in-the-united-states-since-1990/\n",
    "\n",
    "fuel_prices = {\n",
    "    \n",
    "    2009 : 2.35,\n",
    "    2010 : 2.78,\n",
    "    2011 : 3.52,\n",
    "    2012 : 3.62,\n",
    "    2013 : 3.51,\n",
    "    2014 : 3.36,\n",
    "    2015 : 2.43  \n",
    "}\n",
    "\n",
    "data['fuel_price'] = data.apply(lambda row: fuel_prices[row.year],axis=1)\n"
   ]
  },
  {
   "cell_type": "markdown",
   "metadata": {},
   "source": [
    "## Machine Learning models."
   ]
  },
  {
   "cell_type": "code",
   "execution_count": 15,
   "metadata": {},
   "outputs": [
    {
     "name": "stdout",
     "output_type": "stream",
     "text": [
      "4.853407196153514\n",
      "        pickup_longitude  pickup_latitude  dropoff_longitude  \\\n",
      "541148        -73.786715        40.645167         -73.991368   \n",
      "\n",
      "        dropoff_latitude  passenger_count  distance  time_of_day  \\\n",
      "541148          40.74895                1  0.229464          836   \n",
      "\n",
      "        hav_distance  hour  min  week_day  year  fuel_price  \n",
      "541148     20.756824    13   56         6  2014        3.36  \n",
      "[  4.77489076e+00   2.00123835e+01   4.65063931e+00   1.28443102e+01\n",
      "   4.87519443e-02   2.35661686e+02   1.77278704e-04   5.23349415e-01\n",
      "   2.77310346e-05   1.48658346e-03   4.57977454e-02   5.40299238e-01\n",
      "   2.70476250e-01]\n"
     ]
    }
   ],
   "source": [
    "# Linear Regression - executed the same code for baseline and extra features\n",
    "\n",
    "train_df = data.drop(['key','fare_amount','pickup_datetime','fare_per_mile'],axis=1)\n",
    "y = data['fare_amount']\n",
    "x_train, x_test, y_train, y_test = train_test_split(train_df,y,test_size=0.2)\n",
    "\n",
    "my_regression = linear_model.LinearRegression() \n",
    "my_regression.fit(x_train,y_train) \n",
    "my_regression_pred = my_regression.predict(x_test)\n",
    "print(sqrt(mean_squared_error(y_test,my_regression_pred)))\n",
    "print(x_train.head(1))\n",
    "print(abs(my_regression.coef_))"
   ]
  },
  {
   "cell_type": "markdown",
   "metadata": {
    "collapsed": true
   },
   "source": [
    "## LR model output. \n",
    "\n",
    "### baseline:\n",
    "\n",
    "7.98641279298705\n",
    "         pickup_longitude  pickup_latitude  dropoff_longitude  \\\n",
    "1180892        -73.956776        40.716779         -73.967606   \n",
    "\n",
    "         dropoff_latitude  passenger_count  \n",
    "1180892         40.696095                1  \n",
    "[  8.41943993e+01   6.14012544e+01   5.85318468e+01   5.26527986e+01\n",
    "   5.69374850e-02]\n",
    "   \n",
    "### With all features:\n",
    "\n",
    "4.983517340753283\n",
    "         pickup_longitude  pickup_latitude  dropoff_longitude  \\\n",
    "1020632        -73.997088        40.720583         -74.003835   \n",
    "\n",
    "         dropoff_latitude  passenger_count  distance  time_of_day  \\\n",
    "1020632         40.737548                3  0.018257          118   \n",
    "\n",
    "         hav_distance  hour  min  week_day  \n",
    "1020632      1.970232     1   58         0  \n",
    "[  4.94095915e+00   1.92951635e+01   4.24857434e+00   1.30262236e+01\n",
    "   9.91310155e-03   2.38931212e+02   1.79354252e-04   5.46349652e-01\n",
    "   2.66731362e-05   1.42103403e-03   4.17557421e-02]\n",
    "   \n",
    "   \n",
    "### With the extended dataset:\n",
    "   \n",
    " 4.853407196153514\n",
    "        pickup_longitude  pickup_latitude  dropoff_longitude  \\\n",
    "541148        -73.786715        40.645167         -73.991368   \n",
    "\n",
    "        dropoff_latitude  passenger_count  distance  time_of_day  \\\n",
    "541148          40.74895                1  0.229464          836   \n",
    "\n",
    "        hav_distance  hour  min  week_day  year  fuel_price  \n",
    "541148     20.756824    13   56         6  2014        3.36  \n",
    "[  4.77489076e+00   2.00123835e+01   4.65063931e+00   1.28443102e+01\n",
    "   4.87519443e-02   2.35661686e+02   1.77278704e-04   5.23349415e-01\n",
    "   2.77310346e-05   1.48658346e-03   4.57977454e-02   5.40299238e-01\n",
    "   2.70476250e-01]"
   ]
  },
  {
   "cell_type": "markdown",
   "metadata": {},
   "source": [
    "## Generating the submission file."
   ]
  },
  {
   "cell_type": "code",
   "execution_count": 18,
   "metadata": {
    "collapsed": true
   },
   "outputs": [],
   "source": [
    "test_data = pd.read_csv(\"test.csv\")\n",
    "euclidean_dist(test_data)\n",
    "convert_date(test_data)\n",
    "day_in_secs(test_data)\n",
    "extra_features(test_data,True)\n",
    "test_key = test_data['key']\n",
    "test_data = test_data.drop(['key','pickup_datetime'],axis=1)"
   ]
  },
  {
   "cell_type": "code",
   "execution_count": 20,
   "metadata": {
    "collapsed": true
   },
   "outputs": [],
   "source": [
    "my_regression_op = my_regression.predict(test_data)"
   ]
  },
  {
   "cell_type": "code",
   "execution_count": 21,
   "metadata": {
    "collapsed": true
   },
   "outputs": [],
   "source": [
    "submit = pd.DataFrame({'key': test_key,'fare_amount':my_regression_op},columns=['key','fare_amount'])\n",
    "\n",
    "submit.to_csv(\"b_submission_5.csv\",index=False)"
   ]
  },
  {
   "cell_type": "markdown",
   "metadata": {},
   "source": [
    "## Random Forest Regressor"
   ]
  },
  {
   "cell_type": "code",
   "execution_count": null,
   "metadata": {
    "collapsed": true
   },
   "outputs": [],
   "source": [
    "train_df = data.drop(['key','fare_amount','pickup_datetime','fare_per_mile'],axis=1)\n",
    "y = data['fare_amount']\n",
    "x_train, x_test, y_train, y_test = train_test_split(train_df,y,test_size=0.2)\n",
    "\n",
    "rfr_regressor = RandomForestRegressor(n_jobs=-1,n_estimators=120,max_depth=6)\n",
    "rfr_regressor.fit(x_train,y_train)\n",
    "rfr_regressor_pred = rfr_regressor.predict(x_test)\n",
    "print(sqrt(mean_squared_error(y_test,rfr_regressor_pred)))"
   ]
  },
  {
   "cell_type": "code",
   "execution_count": 25,
   "metadata": {},
   "outputs": [
    {
     "name": "stdout",
     "output_type": "stream",
     "text": [
      "4.000707565365393\n"
     ]
    }
   ],
   "source": [
    "print(sqrt(mean_squared_error(y_test,rfr_regressor_pred)))\n",
    "rfr_regressor_pred_sub = rfr_regressor.predict(test_data)"
   ]
  },
  {
   "cell_type": "code",
   "execution_count": 26,
   "metadata": {
    "collapsed": true
   },
   "outputs": [],
   "source": [
    "submit = pd.DataFrame({'key': test_key,'fare_amount':rfr_regressor_pred_sub},columns=['key','fare_amount'])\n",
    "\n",
    "submit.to_csv(\"b_submission_rfr.csv\",index=False)"
   ]
  }
 ],
 "metadata": {
  "kernelspec": {
   "display_name": "Python 3",
   "language": "python",
   "name": "python3"
  },
  "language_info": {
   "codemirror_mode": {
    "name": "ipython",
    "version": 3
   },
   "file_extension": ".py",
   "mimetype": "text/x-python",
   "name": "python",
   "nbconvert_exporter": "python",
   "pygments_lexer": "ipython3",
   "version": "3.6.3"
  }
 },
 "nbformat": 4,
 "nbformat_minor": 2
}
